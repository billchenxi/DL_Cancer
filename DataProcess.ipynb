{
 "cells": [
  {
   "cell_type": "markdown",
   "metadata": {
    "deletable": true,
    "editable": true
   },
   "source": [
    "List all the files"
   ]
  },
  {
   "cell_type": "code",
   "execution_count": 2,
   "metadata": {
    "ExecuteTime": {
     "end_time": "2017-04-03T20:00:05.437897Z",
     "start_time": "2017-04-03T16:00:05.432896-04:00"
    },
    "collapsed": true,
    "deletable": true,
    "editable": true
   },
   "outputs": [],
   "source": [
    "from os import listdir\n",
    "from os.path import isfile, join"
   ]
  },
  {
   "cell_type": "code",
   "execution_count": 4,
   "metadata": {
    "collapsed": false,
    "deletable": true,
    "editable": true
   },
   "outputs": [
    {
     "data": {
      "text/plain": [
       "['dataProcess.py',\n",
       " '.ipynb_checkpoints',\n",
       " 'NormalMerged.txt',\n",
       " 'CancerMerged.txt',\n",
       " 'DataProcess.ipynb',\n",
       " 'Cancer.npy']"
      ]
     },
     "execution_count": 4,
     "metadata": {},
     "output_type": "execute_result"
    }
   ],
   "source": [
    "from os import listdir\n",
    "import gzip\n",
    "import os.path\n",
    "\n",
    "# Data process\n",
    "folders = listdir(\"./\")\n",
    "folders"
   ]
  },
  {
   "cell_type": "code",
   "execution_count": null,
   "metadata": {
    "collapsed": true,
    "deletable": true,
    "editable": true
   },
   "outputs": [],
   "source": [
    "dest_folder = \"./Desktop/CancerDLPaper/Cancer_txt/\"\n",
    "\n",
    "# Unzip all the cancer files\n",
    "for i in folders:\n",
    "    source_folder = \"./Desktop/CancerDLPaper/Cancer/\" + i\n",
    "    for gzfile in listdir(source_folder):\n",
    "        if gzfile.endswith(\".gz\"):\n",
    "            base = os.path.splitext(gzfile)[0]\n",
    "            dest_name = dest_folder + base + \".txt\"\n",
    "            print(dest_name)\n",
    "            gzname = source_folder+ \"/\"+gzfile\n",
    "            with gzip.open(gzname, 'rb') as infile:\n",
    "                with open(dest_name, 'wb') as outfile:\n",
    "                    for line in infile:\n",
    "                        outfile.write(line)\n",
    "\n",
    "# Unzip all the normal files\n",
    "folders = listdir(\"./Desktop/CancerDLPaper/Normal\")\n",
    "\n",
    "dest_folder = \"./Desktop/CancerDLPaper/Normal_txt/\"\n",
    "\n",
    "for i in folders:\n",
    "    source_folder = \"./Desktop/CancerDLPaper/Normal/\" + i\n",
    "    for gzfile in listdir(source_folder):\n",
    "        if gzfile.endswith(\".gz\"):\n",
    "            base = os.path.splitext(gzfile)[0]\n",
    "            dest_name = dest_folder + base + \".txt\"\n",
    "            print(dest_name)\n",
    "            gzname = source_folder+ \"/\"+gzfile\n",
    "            with gzip.open(gzname, 'rb') as infile:\n",
    "                with open(dest_name, 'wb') as outfile:\n",
    "                    for line in infile:\n",
    "                        outfile.write(line)\n",
    "\n",
    "# Since each file has different Ensembl IDs, so collect them all to find the commom ones\n",
    "import pandas as pd\n",
    "## For cancer files\n",
    "folder = \"./Desktop/CancerDLPaper/Cancer_txt/\"\n",
    "fileList = listdir(folder)\n",
    "names = list()\n",
    "for i in fileList:\n",
    "    fileName = folder + i\n",
    "    print(fileName)\n",
    "    name = list(pd.read_csv(fileName, delimiter='\\t', header=None)[0])\n",
    "    names.append(name)\n",
    "## For normal files\n",
    "folder = \"./Desktop/CancerDLPaper/Normal_txt/\"\n",
    "fileList = listdir(folder)\n",
    "for i in fileList:\n",
    "    fileName = folder + i\n",
    "    print(fileName)\n",
    "    name = list(pd.read_csv(fileName, delimiter='\\t', header=None)[0])\n",
    "    names.append(name)\n",
    "\n",
    "\n",
    "                        \n",
    "# Include all the data in one file(cancer)                     \n",
    "import numpy as np\n",
    "folder = \"./Desktop/CancerDLPaper/Cancer_txt/\"\n",
    "fileList = listdir(folder)\n",
    "first = fileList.pop(0)\n",
    "cancerNPArray = np.genfromtxt((folder+first), delimiter='\\t')[:,1]\n",
    "for i in fileList:\n",
    "    fileName = folder + i\n",
    "    data = np.genfromtxt(fileName, delimiter='\\t')[:,1]\n",
    "    print(data.shape)\n",
    "    cancerNPArray= np.c_[cancerNPArray, data]\n",
    "\n",
    "# Include all the data in one file(normal)\n",
    "folder = \"./Normal_txt/\"\n",
    "fileList = listdir(folder)\n",
    "first = fileList.pop(0)\n",
    "NormalNPArray = np.genfromtxt((folder+first), delimiter='\\t')[:,1]\n",
    "for i in fileList:\n",
    "    fileName = folder + i\n",
    "    data = np.genfromtxt(fileName, delimiter='\\t')[:,1]\n",
    "    print(fileName)\n",
    "    np.concatenate((NormalNPArray, data))"
   ]
  },
  {
   "cell_type": "markdown",
   "metadata": {},
   "source": []
  },
  {
   "cell_type": "code",
   "execution_count": null,
   "metadata": {
    "collapsed": true
   },
   "outputs": [],
   "source": []
  },
  {
   "cell_type": "code",
   "execution_count": null,
   "metadata": {
    "collapsed": true
   },
   "outputs": [],
   "source": [
    "a = cData.iloc[0].tolist()"
   ]
  },
  {
   "cell_type": "code",
   "execution_count": null,
   "metadata": {
    "collapsed": true
   },
   "outputs": [],
   "source": []
  },
  {
   "cell_type": "code",
   "execution_count": null,
   "metadata": {
    "collapsed": true
   },
   "outputs": [],
   "source": []
  },
  {
   "cell_type": "code",
   "execution_count": null,
   "metadata": {
    "collapsed": true
   },
   "outputs": [],
   "source": []
  },
  {
   "cell_type": "code",
   "execution_count": null,
   "metadata": {
    "collapsed": true
   },
   "outputs": [],
   "source": []
  }
 ],
 "metadata": {
  "kernelspec": {
   "display_name": "Python 3.5",
   "language": "python",
   "name": "python3"
  },
  "language_info": {
   "codemirror_mode": {
    "name": "ipython",
    "version": 3
   },
   "file_extension": ".py",
   "mimetype": "text/x-python",
   "name": "python",
   "nbconvert_exporter": "python",
   "pygments_lexer": "ipython3",
   "version": "3.5.2"
  }
 },
 "nbformat": 4,
 "nbformat_minor": 2
}
